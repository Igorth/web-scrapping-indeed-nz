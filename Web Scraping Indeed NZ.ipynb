{
 "cells": [
  {
   "cell_type": "markdown",
   "metadata": {},
   "source": [
    "# Web Scraping Indeed NZ"
   ]
  },
  {
   "cell_type": "markdown",
   "metadata": {},
   "source": [
    "## Scraping a lista de empregos"
   ]
  },
  {
   "cell_type": "markdown",
   "metadata": {},
   "source": [
    "Eu vou estar raspando anúncios de emprego da \"nz.indeed.com\" usando BeautifulSoup.\n",
    "\n",
    "Primeiro, veja a origem de uma página Indeed.com: (https://nz.indeed.com/jobs?q=IT&l=)\n",
    "\n",
    "Observe que cada listagem de trabalho está abaixo de uma tag div com um nome de classe de resultado. Podemos usar o BeautifulSoup para extraí-los."
   ]
  },
  {
   "cell_type": "code",
   "execution_count": 77,
   "metadata": {},
   "outputs": [],
   "source": [
    "url = 'https://nz.indeed.com/jobs?q=&l=Queenstown%2C+Otago'"
   ]
  },
  {
   "cell_type": "code",
   "execution_count": 78,
   "metadata": {},
   "outputs": [],
   "source": [
    "import requests\n",
    "import bs4\n",
    "from bs4 import BeautifulSoup\n",
    "from lxml import html\n",
    "import pandas as pd\n",
    "import matplotlib as plt\n",
    "%matplotlib inline"
   ]
  },
  {
   "cell_type": "code",
   "execution_count": 79,
   "metadata": {},
   "outputs": [],
   "source": [
    "result = requests.get(url)\n",
    "soup = BeautifulSoup(result.content, \"html.parser\")"
   ]
  },
  {
   "cell_type": "markdown",
   "metadata": {},
   "source": [
    "### Extrair a localicazação"
   ]
  },
  {
   "cell_type": "code",
   "execution_count": 88,
   "metadata": {
    "scrolled": false
   },
   "outputs": [
    {
     "data": {
      "text/plain": [
       "[<span class=\"location\">Queenstown, Otago</span>,\n",
       " <span class=\"location\">Queenstown, Otago</span>,\n",
       " <span class=\"location\">Queenstown, Otago</span>,\n",
       " <span class=\"location\">Queenstown, Otago</span>,\n",
       " <span class=\"location\">Queenstown, Otago</span>,\n",
       " <span class=\"location\">Queenstown, Otago</span>,\n",
       " <span class=\"location\">Queenstown, Otago</span>,\n",
       " <span class=\"location\">Queenstown, Otago</span>,\n",
       " <span class=\"location\">Queenstown, Otago</span>,\n",
       " <span class=\"location\">Queenstown, Otago</span>]"
      ]
     },
     "execution_count": 88,
     "metadata": {},
     "output_type": "execute_result"
    }
   ],
   "source": [
    "soup.find_all('span', attrs={'class': 'location'})"
   ]
  },
  {
   "cell_type": "markdown",
   "metadata": {},
   "source": [
    "### Extrair o nome da empresa"
   ]
  },
  {
   "cell_type": "code",
   "execution_count": 81,
   "metadata": {
    "scrolled": true
   },
   "outputs": [
    {
     "data": {
      "text/plain": [
       "[<span class=\"company\">\n",
       " <a href=\"/cmp/Hallensteins\" onmousedown=\"this.href = appendParamsOnce(this.href, 'from=SERP&amp;campaignid=serp-linkcompanyname&amp;fromjk=6ee1321f5065959b&amp;jcid=1b9de23ce5185be4')\" rel=\"noopener\" target=\"_blank\">\n",
       "         Hallensteins</a></span>, <span class=\"company\">\n",
       "         Anderson Lloyd</span>, <span class=\"company\">\n",
       " <a href=\"/cmp/The-Just-Group\" onmousedown=\"this.href = appendParamsOnce(this.href, 'from=SERP&amp;campaignid=serp-linkcompanyname&amp;fromjk=3a0f028edb19f2a8&amp;jcid=4787ab0b21c7ff04')\" rel=\"noopener\" target=\"_blank\">\n",
       "         The Just Group</a></span>, <span class=\"company\">\n",
       " <a href=\"/cmp/Luxottica\" onmousedown=\"this.href = appendParamsOnce(this.href, 'from=SERP&amp;campaignid=serp-linkcompanyname&amp;fromjk=d123addc57ed2ed1&amp;jcid=f82756c636fca27b')\" rel=\"noopener\" target=\"_blank\">\n",
       "         Sunglass Hut</a></span>, <span class=\"company\">\n",
       " <a href=\"/cmp/The-Just-Group\" onmousedown=\"this.href = appendParamsOnce(this.href, 'from=SERP&amp;campaignid=serp-linkcompanyname&amp;fromjk=0e45f8e268e9bba0&amp;jcid=4787ab0b21c7ff04')\" rel=\"noopener\" target=\"_blank\">\n",
       "         The Just Group</a></span>, <span class=\"company\">\n",
       " <a href=\"/cmp/Noel-Leeming\" onmousedown=\"this.href = appendParamsOnce(this.href, 'from=SERP&amp;campaignid=serp-linkcompanyname&amp;fromjk=505ae304c8ef29dc&amp;jcid=e65f21b2fd8abca1')\" rel=\"noopener\" target=\"_blank\">\n",
       "         Noel Leeming</a></span>, <span class=\"company\">\n",
       " <a href=\"/cmp/Mitre-10\" onmousedown=\"this.href = appendParamsOnce(this.href, 'from=SERP&amp;campaignid=serp-linkcompanyname&amp;fromjk=95036a25683e641f&amp;jcid=a6b6c9e984b71bf9')\" rel=\"noopener\" target=\"_blank\">\n",
       "         Mitre 10</a></span>, <span class=\"company\">\n",
       " <a href=\"/cmp/Hilton\" onmousedown=\"this.href = appendParamsOnce(this.href, 'from=SERP&amp;campaignid=serp-linkcompanyname&amp;fromjk=9cb6a65d245035a0&amp;jcid=a18a04d1def20edc')\" rel=\"noopener\" target=\"_blank\">\n",
       "         Hilton Hotels &amp; Resorts</a></span>]"
      ]
     },
     "execution_count": 81,
     "metadata": {},
     "output_type": "execute_result"
    }
   ],
   "source": [
    "soup.find_all('span', {'class': 'company'})"
   ]
  },
  {
   "cell_type": "markdown",
   "metadata": {},
   "source": [
    "### Extrair o título do trabalho"
   ]
  },
  {
   "cell_type": "code",
   "execution_count": 82,
   "metadata": {
    "scrolled": true
   },
   "outputs": [
    {
     "data": {
      "text/plain": [
       "[<a class=\"turnstileLink\" data-tn-element=\"jobTitle\" href=\"/rc/clk?jk=6ee1321f5065959b&amp;fccid=1b9de23ce5185be4&amp;vjs=3\" onclick=\"setRefineByCookie([]); return rclk(this,jobmap[0],true,0);\" onmousedown=\"return rclk(this,jobmap[0],0);\" rel=\"noopener nofollow\" target=\"_blank\" title=\"Retail Sales l Part Time l Queenstown\">Retail Sales l Part Time l Queenstown</a>,\n",
       " <a class=\"turnstileLink\" data-tn-element=\"jobTitle\" href=\"/rc/clk?jk=ceade3c707c52487&amp;fccid=a9ffc755ab42ff4c&amp;vjs=3\" onclick=\"setRefineByCookie([]); return rclk(this,jobmap[1],true,0);\" onmousedown=\"return rclk(this,jobmap[1],0);\" rel=\"noopener nofollow\" target=\"_blank\" title=\"Administration Assistant/Reception (Queenstown)\">Administration Assistant/Reception (Queenstown)</a>,\n",
       " <a class=\"turnstileLink\" data-tn-element=\"jobTitle\" href=\"/rc/clk?jk=3a0f028edb19f2a8&amp;fccid=4787ab0b21c7ff04&amp;vjs=3\" onclick=\"setRefineByCookie([]); return rclk(this,jobmap[2],true,0);\" onmousedown=\"return rclk(this,jobmap[2],0);\" rel=\"noopener nofollow\" target=\"_blank\" title=\"Sales Assistant\">Sales Assistant</a>,\n",
       " <a class=\"turnstileLink\" data-tn-element=\"jobTitle\" href=\"/rc/clk?jk=d123addc57ed2ed1&amp;fccid=a49d99f2875604a1&amp;vjs=3\" onclick=\"setRefineByCookie([]); return rclk(this,jobmap[3],true,0);\" onmousedown=\"return rclk(this,jobmap[3],0);\" rel=\"noopener nofollow\" target=\"_blank\" title=\"Retail Associate\">Retail Associate</a>,\n",
       " <a class=\"turnstileLink\" data-tn-element=\"jobTitle\" href=\"/rc/clk?jk=763a14398d48be26&amp;fccid=dd616958bd9ddc12&amp;vjs=3\" onclick=\"setRefineByCookie([]); return rclk(this,jobmap[4],true,0);\" onmousedown=\"return rclk(this,jobmap[4],0);\" rel=\"noopener nofollow\" target=\"_blank\" title=\"Receptionist/cleaner\">Receptionist/cleaner</a>,\n",
       " <a class=\"turnstileLink\" data-tn-element=\"jobTitle\" href=\"/rc/clk?jk=0e45f8e268e9bba0&amp;fccid=4787ab0b21c7ff04&amp;vjs=3\" onclick=\"setRefineByCookie([]); return rclk(this,jobmap[5],true,0);\" onmousedown=\"return rclk(this,jobmap[5],0);\" rel=\"noopener nofollow\" target=\"_blank\" title=\"Christmas Casual\">Christmas Casual</a>,\n",
       " <a class=\"turnstileLink\" data-tn-element=\"jobTitle\" href=\"/rc/clk?jk=505ae304c8ef29dc&amp;fccid=e65f21b2fd8abca1&amp;vjs=3\" onclick=\"setRefineByCookie([]); return rclk(this,jobmap[6],true,0);\" onmousedown=\"return rclk(this,jobmap[6],0);\" rel=\"noopener nofollow\" target=\"_blank\" title=\"Queenstown: Remarkables- Bike Retail Assistant\">Queenstown: Remarkables- Bike Retail Assistant</a>,\n",
       " <a class=\"turnstileLink\" data-tn-element=\"jobTitle\" href=\"/rc/clk?jk=c0acf93f1ea627a7&amp;fccid=dd616958bd9ddc12&amp;vjs=3\" onclick=\"setRefineByCookie([]); return rclk(this,jobmap[7],true,0);\" onmousedown=\"return rclk(this,jobmap[7],0);\" rel=\"noopener nofollow\" target=\"_blank\" title=\"Room Attendant\">Room Attendant</a>,\n",
       " <a class=\"turnstileLink\" data-tn-element=\"jobTitle\" href=\"/rc/clk?jk=95036a25683e641f&amp;fccid=a6b6c9e984b71bf9&amp;vjs=3\" onclick=\"setRefineByCookie([]); return rclk(this,jobmap[8],true,0);\" onmousedown=\"return rclk(this,jobmap[8],0);\" rel=\"noopener nofollow\" target=\"_blank\" title=\"Retail Sales Assistants - Mega Queenstown\">Retail Sales Assistants - Mega Queenstown</a>,\n",
       " <a class=\"turnstileLink\" data-tn-element=\"jobTitle\" href=\"/rc/clk?jk=9cb6a65d245035a0&amp;fccid=6f47211b0637a52d&amp;vjs=3\" onclick=\"setRefineByCookie([]); return rclk(this,jobmap[9],true,0);\" onmousedown=\"return rclk(this,jobmap[9],0);\" rel=\"noopener nofollow\" target=\"_blank\" title=\"Food and Beverage Attendant\">Food and Beverage Attendant</a>]"
      ]
     },
     "execution_count": 82,
     "metadata": {},
     "output_type": "execute_result"
    }
   ],
   "source": [
    "soup.find_all('a', {'data-tn-element': 'jobTitle'})"
   ]
  },
  {
   "cell_type": "markdown",
   "metadata": {},
   "source": [
    "### Extrair a data que foi postada o trabalho"
   ]
  },
  {
   "cell_type": "code",
   "execution_count": 83,
   "metadata": {},
   "outputs": [
    {
     "data": {
      "text/plain": [
       "[<span class=\"date\">26 days ago</span>,\n",
       " <span class=\"date\">27 days ago</span>,\n",
       " <span class=\"date\">1 day ago</span>,\n",
       " <span class=\"date\">26 days ago</span>,\n",
       " <span class=\"date\">6 days ago</span>,\n",
       " <span class=\"date\">12 days ago</span>,\n",
       " <span class=\"date\">1 day ago</span>,\n",
       " <span class=\"date\">5 days ago</span>,\n",
       " <span class=\"date\">15 days ago</span>,\n",
       " <span class=\"date\">4 days ago</span>]"
      ]
     },
     "execution_count": 83,
     "metadata": {},
     "output_type": "execute_result"
    }
   ],
   "source": [
    "soup.find_all('span', {'class': 'date'})"
   ]
  },
  {
   "cell_type": "markdown",
   "metadata": {},
   "source": [
    "### Funções para extrair tudo de uma vez"
   ]
  },
  {
   "cell_type": "code",
   "execution_count": 84,
   "metadata": {},
   "outputs": [],
   "source": [
    "dflocation = pd.DataFrame(columns=['localizacao'])\n",
    "dfcompany = pd.DataFrame(columns=['empresa'])\n",
    "dfjob_title = pd.DataFrame(columns=['titulo_emprego'])\n",
    "dfdate = pd.DataFrame(columns=['data'])\n",
    "\n",
    "def extract_location(result):\n",
    "    for b in result.find_all('span', {'class': 'location'}):\n",
    "        location = b.text\n",
    "        dflocation.loc[len(dflocation)] = [location]\n",
    "\n",
    "def extract_company(result):\n",
    "    for i in result.find_all('span', {'class': 'company'}):\n",
    "        company = i.text\n",
    "        dfcompany.loc[len(dfcompany)] = [company]\n",
    "\n",
    "def extract_job_title(result):\n",
    "    for a in result.find_all('a', {'data-tn-element': 'jobTitle'}):\n",
    "        job_title = a.text\n",
    "        dfjob_title.loc[len(dfjob_title)] = [job_title]\n",
    "        \n",
    "def extract_date(result):\n",
    "    for d in result.find_all('span', {'class': 'date'}):\n",
    "        date = d.text\n",
    "        dfdate.loc[len(dfdate)] = [date]"
   ]
  },
  {
   "cell_type": "markdown",
   "metadata": {},
   "source": [
    "### Criar uma lista de cidades"
   ]
  },
  {
   "cell_type": "code",
   "execution_count": 85,
   "metadata": {},
   "outputs": [],
   "source": [
    "cities = ['Queenstown', 'Auckland', 'Christchurch', 'Wellington']"
   ]
  },
  {
   "cell_type": "markdown",
   "metadata": {},
   "source": [
    "### Construir um dataframe que salva todas as informações coletadas pelo web scraping"
   ]
  },
  {
   "cell_type": "code",
   "execution_count": 94,
   "metadata": {
    "scrolled": true
   },
   "outputs": [],
   "source": [
    "url_template = 'https://nz.indeed.com/jobs?q=&l={}&start={}'\n",
    "max_results_per_city = 20\n",
    "\n",
    "df = pd.DataFrame(columns=['location', 'company', 'job_title', 'date'])\n",
    "\n",
    "for city in cities:\n",
    "    for start in range(0, max_results_per_city, 10):\n",
    "        url = url_template.format(city, start)\n",
    "        result = requests.get(url)\n",
    "        soups = BeautifulSoup(result.content, \"html.parser\")\n",
    "        for b in soups.find_all('div', attrs={'class': ' row result'}):\n",
    "            location = b.find('span', attrs={'class': 'location'}).text\n",
    "            job_title = b.find('a', attrs={'data-tn-element': 'jobTitle'}).text\n",
    "            date = b.find('span', attrs={'class': 'date'}).text\n",
    "            try:\n",
    "                company = b.find('span', attrs={'class': 'company'}).text\n",
    "            except:\n",
    "                company = 'NA'\n",
    "            df = df.append({'location': location, \"company\": company, \"job_title\": job_title, \"date\": date}, ignore_index=True)"
   ]
  },
  {
   "cell_type": "code",
   "execution_count": 100,
   "metadata": {},
   "outputs": [],
   "source": [
    "data = df\n",
    "data.drop_duplicates(inplace=True) #dropping duplicates\n",
    "data.company.replace(regex=True,inplace=True,to_replace=\"\\n\",value=\"\") #getting rid of /n in company"
   ]
  },
  {
   "cell_type": "code",
   "execution_count": 103,
   "metadata": {},
   "outputs": [],
   "source": [
    "def information(dataframe):\n",
    "    print(\"missing values \\n\", dataframe.isnull().sum()) #shows total amount of null values for each column\n",
    "    print(\"dataframe types \\n\", dataframe.dtypes)\n",
    "    print(\"dataframe shape \\n\", dataframe.shape)\n",
    "    print(\"dataframe describe \\n\", dataframe.describe())\n",
    "    print(\"dataframe length =\", len(dataframe)) #length of the dataframe\n",
    "    print(\"duplicates\", dataframe.duplicated().sum()) # added this to duplicates in the data\n",
    "    for item in dataframe:\n",
    "        print(item)\n",
    "        print(dataframe[item].nunique())"
   ]
  },
  {
   "cell_type": "code",
   "execution_count": 104,
   "metadata": {},
   "outputs": [
    {
     "name": "stdout",
     "output_type": "stream",
     "text": [
      "missing values \n",
      " location     0\n",
      "company      0\n",
      "job_title    0\n",
      "date         0\n",
      "dtype: int64\n",
      "dataframe types \n",
      " location     object\n",
      "company      object\n",
      "job_title    object\n",
      "date         object\n",
      "dtype: object\n",
      "dataframe shape \n",
      " (72, 4)\n",
      "dataframe describe \n",
      "                  location company          job_title       date\n",
      "count                  72      72                 72         72\n",
      "unique                 27      37                 66         27\n",
      "top     Queenstown, Otago      NA  SENIOR PART TIMER  1 day ago\n",
      "freq                   18      19                  2         12\n",
      "dataframe length = 72\n",
      "duplicates 0\n",
      "location\n",
      "27\n",
      "company\n",
      "37\n",
      "job_title\n",
      "66\n",
      "date\n",
      "27\n"
     ]
    }
   ],
   "source": [
    "information(data)"
   ]
  },
  {
   "cell_type": "markdown",
   "metadata": {},
   "source": [
    "### Salvar os resultados em arquivo CSV"
   ]
  },
  {
   "cell_type": "code",
   "execution_count": 107,
   "metadata": {},
   "outputs": [],
   "source": [
    "data.to_csv(\"C:/Users/Igor/Desktop/Projetos/jobs_nz.csv\", sep=',', encoding='utf-8')"
   ]
  }
 ],
 "metadata": {
  "kernelspec": {
   "display_name": "Python 3",
   "language": "python",
   "name": "python3"
  },
  "language_info": {
   "codemirror_mode": {
    "name": "ipython",
    "version": 3
   },
   "file_extension": ".py",
   "mimetype": "text/x-python",
   "name": "python",
   "nbconvert_exporter": "python",
   "pygments_lexer": "ipython3",
   "version": "3.6.5"
  }
 },
 "nbformat": 4,
 "nbformat_minor": 2
}
