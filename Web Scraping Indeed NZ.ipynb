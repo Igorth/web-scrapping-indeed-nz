{
 "cells": [
  {
   "cell_type": "markdown",
   "metadata": {},
   "source": [
    "# Web Scraping Indeed NZ"
   ]
  },
  {
   "cell_type": "markdown",
   "metadata": {},
   "source": [
    "## Scraping a lista de empregos"
   ]
  },
  {
   "cell_type": "markdown",
   "metadata": {},
   "source": [
    "Eu vou estar raspando anúncios de emprego da \"nz.indeed.com\" usando BeautifulSoup.\n",
    "\n",
    "Primeiro, veja a origem de uma página Indeed.com: (https://nz.indeed.com/jobs?q=IT&l=)\n",
    "\n",
    "Observe que cada listagem de trabalho está abaixo de uma tag div com um nome de classe de resultado. Podemos usar o BeautifulSoup para extraí-los."
   ]
  },
  {
   "cell_type": "code",
   "execution_count": 8,
   "metadata": {},
   "outputs": [],
   "source": [
    "url = 'https://nz.indeed.com/jobs?q=&l=Queenstown%2C+Otago'"
   ]
  },
  {
   "cell_type": "code",
   "execution_count": 13,
   "metadata": {},
   "outputs": [],
   "source": [
    "import requests\n",
    "import bs4\n",
    "from bs4 import BeautifulSoup\n",
    "import urllib3\n",
    "import pandas as pd\n",
    "import matplotlib as plt\n",
    "%matplotlib inline"
   ]
  },
  {
   "cell_type": "code",
   "execution_count": 19,
   "metadata": {},
   "outputs": [
    {
     "name": "stderr",
     "output_type": "stream",
     "text": [
      "C:\\Users\\Igor\\Anaconda3\\lib\\site-packages\\urllib3\\connectionpool.py:858: InsecureRequestWarning: Unverified HTTPS request is being made. Adding certificate verification is strongly advised. See: https://urllib3.readthedocs.io/en/latest/advanced-usage.html#ssl-warnings\n",
      "  InsecureRequestWarning)\n",
      "C:\\Users\\Igor\\Anaconda3\\lib\\site-packages\\urllib3\\connectionpool.py:858: InsecureRequestWarning: Unverified HTTPS request is being made. Adding certificate verification is strongly advised. See: https://urllib3.readthedocs.io/en/latest/advanced-usage.html#ssl-warnings\n",
      "  InsecureRequestWarning)\n",
      "C:\\Users\\Igor\\Anaconda3\\lib\\site-packages\\bs4\\__init__.py:181: UserWarning: No parser was explicitly specified, so I'm using the best available HTML parser for this system (\"lxml\"). This usually isn't a problem, but if you run this code on another system, or in a different virtual environment, it may use a different parser and behave differently.\n",
      "\n",
      "The code that caused this warning is on line 193 of the file C:\\Users\\Igor\\Anaconda3\\lib\\runpy.py. To get rid of this warning, change code that looks like this:\n",
      "\n",
      " BeautifulSoup(YOUR_MARKUP})\n",
      "\n",
      "to this:\n",
      "\n",
      " BeautifulSoup(YOUR_MARKUP, \"lxml\")\n",
      "\n",
      "  markup_type=markup_type))\n"
     ]
    }
   ],
   "source": [
    "http = urllib3.PoolManager()\n",
    "response = http.request('GET', url)\n",
    "soup = BeautifulSoup(response.data)"
   ]
  },
  {
   "cell_type": "markdown",
   "metadata": {},
   "source": [
    "### Extrair a localicazação"
   ]
  },
  {
   "cell_type": "code",
   "execution_count": 30,
   "metadata": {
    "scrolled": false
   },
   "outputs": [
    {
     "data": {
      "text/plain": [
       "[<span class=\"location\">Queenstown, Otago</span>,\n",
       " <span class=\"location\">Queenstown, Otago</span>,\n",
       " <span class=\"location\">Queenstown, Otago</span>,\n",
       " <span class=\"location\">Queenstown, Otago</span>,\n",
       " <span class=\"location\">Queenstown, Otago</span>,\n",
       " <span class=\"location\">Queenstown, Otago</span>,\n",
       " <span class=\"location\">Queenstown, Otago</span>,\n",
       " <span class=\"location\">Queenstown, Otago</span>,\n",
       " <span class=\"location\">Queenstown, Otago</span>,\n",
       " <span class=\"location\">Queenstown, Otago</span>]"
      ]
     },
     "execution_count": 30,
     "metadata": {},
     "output_type": "execute_result"
    }
   ],
   "source": [
    "soup.find_all('span', {'class': 'location'})"
   ]
  },
  {
   "cell_type": "markdown",
   "metadata": {},
   "source": [
    "### Extrair o nome da empresa"
   ]
  },
  {
   "cell_type": "code",
   "execution_count": 31,
   "metadata": {
    "scrolled": true
   },
   "outputs": [
    {
     "data": {
      "text/plain": [
       "[<span class=\"company\">\n",
       " <a href=\"/cmp/Nzski\" onmousedown=\"this.href = appendParamsOnce(this.href, 'from=SERP&amp;campaignid=serp-linkcompanyname&amp;fromjk=ec6c23d31ef1abec&amp;jcid=c97fa444e7f887bb')\" rel=\"noopener\" target=\"_blank\">\n",
       "         NZSki</a></span>, <span class=\"company\">\n",
       " <a href=\"/cmp/Hallensteins\" onmousedown=\"this.href = appendParamsOnce(this.href, 'from=SERP&amp;campaignid=serp-linkcompanyname&amp;fromjk=6ee1321f5065959b&amp;jcid=1b9de23ce5185be4')\" rel=\"noopener\" target=\"_blank\">\n",
       "         Hallensteins</a></span>, <span class=\"company\">\n",
       " <a href=\"/cmp/Luxottica\" onmousedown=\"this.href = appendParamsOnce(this.href, 'from=SERP&amp;campaignid=serp-linkcompanyname&amp;fromjk=d123addc57ed2ed1&amp;jcid=f82756c636fca27b')\" rel=\"noopener\" target=\"_blank\">\n",
       "         Sunglass Hut</a></span>, <span class=\"company\">\n",
       "         Anderson Lloyd</span>, <span class=\"company\">\n",
       " <a href=\"/cmp/The-Just-Group\" onmousedown=\"this.href = appendParamsOnce(this.href, 'from=SERP&amp;campaignid=serp-linkcompanyname&amp;fromjk=3a0f028edb19f2a8&amp;jcid=4787ab0b21c7ff04')\" rel=\"noopener\" target=\"_blank\">\n",
       "         The Just Group</a></span>, <span class=\"company\">\n",
       " <a href=\"/cmp/Bendon\" onmousedown=\"this.href = appendParamsOnce(this.href, 'from=SERP&amp;campaignid=serp-linkcompanyname&amp;fromjk=81625444911b062c&amp;jcid=019088fc474623b4')\" rel=\"noopener\" target=\"_blank\">\n",
       "         Bendon</a></span>, <span class=\"company\">\n",
       " <a href=\"/cmp/The-Just-Group\" onmousedown=\"this.href = appendParamsOnce(this.href, 'from=SERP&amp;campaignid=serp-linkcompanyname&amp;fromjk=0e45f8e268e9bba0&amp;jcid=4787ab0b21c7ff04')\" rel=\"noopener\" target=\"_blank\">\n",
       "         The Just Group</a></span>, <span class=\"company\">\n",
       " <a href=\"/cmp/Noel-Leeming\" onmousedown=\"this.href = appendParamsOnce(this.href, 'from=SERP&amp;campaignid=serp-linkcompanyname&amp;fromjk=505ae304c8ef29dc&amp;jcid=e65f21b2fd8abca1')\" rel=\"noopener\" target=\"_blank\">\n",
       "         Noel Leeming</a></span>, <span class=\"company\">\n",
       " <a href=\"/cmp/Aj-Hackett-Bungy-New-Zealand\" onmousedown=\"this.href = appendParamsOnce(this.href, 'from=SERP&amp;campaignid=serp-linkcompanyname&amp;fromjk=fc0e4c739b8f1082&amp;jcid=5525635978febad5')\" rel=\"noopener\" target=\"_blank\">\n",
       "         AJ Hackett Bungy NZ</a></span>]"
      ]
     },
     "execution_count": 31,
     "metadata": {},
     "output_type": "execute_result"
    }
   ],
   "source": [
    "soup.find_all('span', {'class': 'company'})"
   ]
  },
  {
   "cell_type": "markdown",
   "metadata": {},
   "source": [
    "### Extrair o título do trabalho"
   ]
  },
  {
   "cell_type": "code",
   "execution_count": 35,
   "metadata": {
    "scrolled": true
   },
   "outputs": [
    {
     "data": {
      "text/plain": [
       "[<a class=\"turnstileLink\" data-tn-element=\"jobTitle\" href=\"/rc/clk?jk=ec6c23d31ef1abec&amp;fccid=cff37361acd9eb55&amp;vjs=3\" onclick=\"setRefineByCookie([]); return rclk(this,jobmap[0],true,0);\" onmousedown=\"return rclk(this,jobmap[0],0);\" rel=\"noopener nofollow\" target=\"_blank\" title=\"Guest Services Assistant\">Guest Services Assistant</a>,\n",
       " <a class=\"turnstileLink\" data-tn-element=\"jobTitle\" href=\"/rc/clk?jk=6ee1321f5065959b&amp;fccid=1b9de23ce5185be4&amp;vjs=3\" onclick=\"setRefineByCookie([]); return rclk(this,jobmap[1],true,0);\" onmousedown=\"return rclk(this,jobmap[1],0);\" rel=\"noopener nofollow\" target=\"_blank\" title=\"Retail Sales l Part Time l Queenstown\">Retail Sales l Part Time l Queenstown</a>,\n",
       " <a class=\"turnstileLink\" data-tn-element=\"jobTitle\" href=\"/rc/clk?jk=763a14398d48be26&amp;fccid=dd616958bd9ddc12&amp;vjs=3\" onclick=\"setRefineByCookie([]); return rclk(this,jobmap[2],true,0);\" onmousedown=\"return rclk(this,jobmap[2],0);\" rel=\"noopener nofollow\" target=\"_blank\" title=\"Receptionist/cleaner\">Receptionist/cleaner</a>,\n",
       " <a class=\"turnstileLink\" data-tn-element=\"jobTitle\" href=\"/rc/clk?jk=d123addc57ed2ed1&amp;fccid=a49d99f2875604a1&amp;vjs=3\" onclick=\"setRefineByCookie([]); return rclk(this,jobmap[3],true,0);\" onmousedown=\"return rclk(this,jobmap[3],0);\" rel=\"noopener nofollow\" target=\"_blank\" title=\"Retail Associate\">Retail Associate</a>,\n",
       " <a class=\"turnstileLink\" data-tn-element=\"jobTitle\" href=\"/rc/clk?jk=ceade3c707c52487&amp;fccid=a9ffc755ab42ff4c&amp;vjs=3\" onclick=\"setRefineByCookie([]); return rclk(this,jobmap[4],true,0);\" onmousedown=\"return rclk(this,jobmap[4],0);\" rel=\"noopener nofollow\" target=\"_blank\" title=\"Administration Assistant/Reception (Queenstown)\">Administration Assistant/Reception (Queenstown)</a>,\n",
       " <a class=\"turnstileLink\" data-tn-element=\"jobTitle\" href=\"/rc/clk?jk=3a0f028edb19f2a8&amp;fccid=4787ab0b21c7ff04&amp;vjs=3\" onclick=\"setRefineByCookie([]); return rclk(this,jobmap[5],true,0);\" onmousedown=\"return rclk(this,jobmap[5],0);\" rel=\"noopener nofollow\" target=\"_blank\" title=\"Sales Assistant\">Sales Assistant</a>,\n",
       " <a class=\"turnstileLink\" data-tn-element=\"jobTitle\" href=\"/rc/clk?jk=81625444911b062c&amp;fccid=019088fc474623b4&amp;vjs=3\" onclick=\"setRefineByCookie([]); return rclk(this,jobmap[6],true,0);\" onmousedown=\"return rclk(this,jobmap[6],0);\" rel=\"noopener nofollow\" target=\"_blank\" title=\"Part Time Sales Consultant - Queenstown\">Part Time Sales Consultant - Queenstown</a>,\n",
       " <a class=\"turnstileLink\" data-tn-element=\"jobTitle\" href=\"/rc/clk?jk=0e45f8e268e9bba0&amp;fccid=4787ab0b21c7ff04&amp;vjs=3\" onclick=\"setRefineByCookie([]); return rclk(this,jobmap[7],true,0);\" onmousedown=\"return rclk(this,jobmap[7],0);\" rel=\"noopener nofollow\" target=\"_blank\" title=\"Christmas Casual\">Christmas Casual</a>,\n",
       " <a class=\"turnstileLink\" data-tn-element=\"jobTitle\" href=\"/rc/clk?jk=505ae304c8ef29dc&amp;fccid=e65f21b2fd8abca1&amp;vjs=3\" onclick=\"setRefineByCookie([]); return rclk(this,jobmap[8],true,0);\" onmousedown=\"return rclk(this,jobmap[8],0);\" rel=\"noopener nofollow\" target=\"_blank\" title=\"Queenstown: Remarkables- Bike Retail Assistant\">Queenstown: Remarkables- Bike Retail Assistant</a>,\n",
       " <a class=\"turnstileLink\" data-tn-element=\"jobTitle\" href=\"/company/AJ-Hackett-Bungy-New-Zealand/jobs/Jump-Operator-fc0e4c739b8f1082?fccid=f35246b96aeb98db&amp;vjs=3\" onclick=\"setRefineByCookie([]); return rclk(this,jobmap[9],true,1);\" onmousedown=\"return rclk(this,jobmap[9],1);\" rel=\"noopener nofollow\" target=\"_blank\" title=\"Jump Operator\">Jump Operator</a>]"
      ]
     },
     "execution_count": 35,
     "metadata": {},
     "output_type": "execute_result"
    }
   ],
   "source": [
    "soup.find_all('a', {'data-tn-element': 'jobTitle'})"
   ]
  },
  {
   "cell_type": "markdown",
   "metadata": {},
   "source": [
    "### Extrair a data que foi postada o trabalho"
   ]
  },
  {
   "cell_type": "code",
   "execution_count": 38,
   "metadata": {},
   "outputs": [
    {
     "data": {
      "text/plain": [
       "[<span class=\"date\">11 days ago</span>,\n",
       " <span class=\"date\">26 days ago</span>,\n",
       " <span class=\"date\">5 days ago</span>,\n",
       " <span class=\"date\">26 days ago</span>,\n",
       " <span class=\"date\">27 days ago</span>,\n",
       " <span class=\"date\">1 day ago</span>,\n",
       " <span class=\"date\">25 days ago</span>,\n",
       " <span class=\"date\">12 days ago</span>,\n",
       " <span class=\"date\">1 day ago</span>,\n",
       " <span class=\"date\">1 day ago</span>]"
      ]
     },
     "execution_count": 38,
     "metadata": {},
     "output_type": "execute_result"
    }
   ],
   "source": [
    "soup.find_all('span', {'class': 'date'})"
   ]
  },
  {
   "cell_type": "markdown",
   "metadata": {},
   "source": [
    "### Funções para extrair tudo de uma vez"
   ]
  },
  {
   "cell_type": "code",
   "execution_count": 40,
   "metadata": {},
   "outputs": [],
   "source": [
    "dflocation = pd.DataFrame(columns=['localizacao'])\n",
    "dfcompany = pd.DataFrame(columns=['empresa'])\n",
    "dfjob_title = pd.DataFrame(columns=['titulo_emprego'])\n",
    "dfdate = pd.DataFrame(columns=['data'])\n",
    "\n",
    "def extract_location(result):\n",
    "    for b in result.find_all('span', {'class': 'location'}):\n",
    "        location = b.text\n",
    "        dflocation.loc[len(dflocation)] = [location]\n",
    "\n",
    "def extract_company(result):\n",
    "    for i in result.find_all('span', {'class': 'company'}):\n",
    "        company = i.text\n",
    "        dfcompany.loc[len(dfcompany)] = [company]\n",
    "\n",
    "def extract_job_title(result):\n",
    "    for a in result.find_all('a', {'data-tn-element': 'jobTitle'}):\n",
    "        job_title = a.text\n",
    "        dfjob_title.loc[len(dfjob_title)] = [job_title]\n",
    "        \n",
    "def extract_date(result):\n",
    "    for d in result.find_all('span', {'class': 'date'}):\n",
    "        date = d.text\n",
    "        dfdate.loc[len(dfdate)] = [date]"
   ]
  },
  {
   "cell_type": "code",
   "execution_count": null,
   "metadata": {},
   "outputs": [],
   "source": []
  }
 ],
 "metadata": {
  "kernelspec": {
   "display_name": "Python 3",
   "language": "python",
   "name": "python3"
  },
  "language_info": {
   "codemirror_mode": {
    "name": "ipython",
    "version": 3
   },
   "file_extension": ".py",
   "mimetype": "text/x-python",
   "name": "python",
   "nbconvert_exporter": "python",
   "pygments_lexer": "ipython3",
   "version": "3.6.5"
  }
 },
 "nbformat": 4,
 "nbformat_minor": 2
}
